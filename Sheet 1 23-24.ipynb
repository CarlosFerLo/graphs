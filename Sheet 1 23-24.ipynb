{
 "cells": [
  {
   "cell_type": "markdown",
   "id": "58658aea-1898-400f-8a57-70da8d63fcbb",
   "metadata": {},
   "source": [
    "Carlos Fernández Lorán y Natália Rubiol"
   ]
  },
  {
   "cell_type": "markdown",
   "id": "3865c2cd",
   "metadata": {},
   "source": [
    "# Grafs 23/24-  Sheet 1 - Due 24 September 2023\n",
    "\n",
    "# Jupyter notebook, Python & Graphs in Python\n",
    "\n",
    "The first assignment is divided into two sections. In the first section you will be reminded of the basics of how to use Python in a notebook, and in the second you will do some basic graph theory exercises in the code. The official python documentation is available at <https://docs.python.org/>."
   ]
  },
  {
   "cell_type": "markdown",
   "id": "26c980af",
   "metadata": {},
   "source": [
    "## Crash course of python\n",
    "\n",
    "*This section is just a short introduction to python in case you have never used it before, we give some exercises for practising, but they will not be evaluated. You can safely skip it and go directly to 'Graphs in python' if you are already familiar with python*"
   ]
  },
  {
   "cell_type": "markdown",
   "id": "7f15b762",
   "metadata": {},
   "source": [
    "A Jupyter notebook is divided in cells. The text above is a \"Markdown cell\" (i.e. text cell), as well as this one. The three cells below are \"Code cells\".\n",
    "\n",
    "To execute the code in a code cell, click it and press Ctrl+Enter. The code will run from top to bottom, and the result of the last computation will be displayed below. If you defined variables or functions, you will be able to access them from other cells *after* executing the cell.\n",
    "\n",
    "Execute the three following cells in order and see what happens. What would happen if you started with the last one?"
   ]
  },
  {
   "cell_type": "code",
   "execution_count": 1,
   "id": "60a20fbb",
   "metadata": {},
   "outputs": [
    {
     "data": {
      "text/plain": [
       "4"
      ]
     },
     "execution_count": 1,
     "metadata": {},
     "output_type": "execute_result"
    }
   ],
   "source": [
    "2+2"
   ]
  },
  {
   "cell_type": "code",
   "execution_count": 2,
   "id": "bfe82a66",
   "metadata": {},
   "outputs": [],
   "source": [
    "a = 1+2"
   ]
  },
  {
   "cell_type": "code",
   "execution_count": 3,
   "id": "69d34ab2",
   "metadata": {},
   "outputs": [
    {
     "name": "stdout",
     "output_type": "stream",
     "text": [
      "3\n",
      "a = 3\n"
     ]
    }
   ],
   "source": [
    "print(a)\n",
    "print('a =', a)"
   ]
  },
  {
   "cell_type": "markdown",
   "id": "cf8b5406",
   "metadata": {},
   "source": [
    "### Notebook modes\n",
    "\n",
    "There are two notebook modes.\n",
    "* When the cells are highlighted in green, \"Edit Mode\", you can write and edit the text inside the cells.\n",
    "* When the cells are highlighted in blue, \"Command Mode\", you can create and delete cells and edit the notebook.\n",
    "\n",
    "To go from Edit to Command Mode, press Esc, to go from Command to Edit mode, click inside a cell. For the moment, you are supposed to be in Edit Mode."
   ]
  },
  {
   "cell_type": "markdown",
   "id": "7bfbbcf6",
   "metadata": {},
   "source": [
    "### Input\n",
    "\n",
    "To read an input from the user, we may use the command `input()`, as in the example below.\n",
    "\n",
    "By default, input() creates a string. If we want an integer we need to convert it."
   ]
  },
  {
   "cell_type": "code",
   "execution_count": 4,
   "id": "cba436e2",
   "metadata": {},
   "outputs": [
    {
     "name": "stdout",
     "output_type": "stream",
     "text": [
      "Please input an integer\n",
      "1\n",
      "Please input an integer\n",
      "you can write here: 1\n",
      "n = 1\n",
      "m = 1\n",
      "n+m = 2\n"
     ]
    }
   ],
   "source": [
    "print('Please input an integer')\n",
    "n = int(input())\n",
    "print('Please input an integer')\n",
    "m = int(input('you can write here: '))\n",
    "print('n =', n)\n",
    "print('m =', m)\n",
    "print('n+m =', n+m)"
   ]
  },
  {
   "cell_type": "markdown",
   "id": "ab2d0115",
   "metadata": {},
   "source": [
    "### If / else / elif\n",
    "\n",
    "The following code is an example of how to use conditional statements. Notice that there are no brackets {} to separate segments of code, and identation is what matters instead."
   ]
  },
  {
   "cell_type": "code",
   "execution_count": 5,
   "id": "71dd5518",
   "metadata": {},
   "outputs": [
    {
     "name": "stdout",
     "output_type": "stream",
     "text": [
      "Please input an integer here: 1\n",
      "n is odd\n"
     ]
    }
   ],
   "source": [
    "n = int(input('Please input an integer here: '))\n",
    "if (n % 2) == 1:\n",
    "    print('n is odd')\n",
    "elif (n % 4) == 0:\n",
    "    print('n is multiple of 4')\n",
    "else:\n",
    "    print('n is horrible')"
   ]
  },
  {
   "cell_type": "markdown",
   "id": "b8fa4119",
   "metadata": {},
   "source": [
    "### For\n",
    "\n",
    "There are (mainly) two styles of for statements in Python:\n",
    "* Iterating over a range of numbers with the instruction `for i in range(a,b)`\n",
    "* Iterating over a \"iterable\" object, usually a list (we will see that after talking about lists)\n",
    "\n",
    "Notice that `range(a,b)` = (a,a+1,...,b-1), where a and b are integers. There are more options such as reversing the order or choosing a different step size that you can look up."
   ]
  },
  {
   "cell_type": "code",
   "execution_count": 6,
   "id": "61bfaa70",
   "metadata": {},
   "outputs": [
    {
     "name": "stdout",
     "output_type": "stream",
     "text": [
      "1\n",
      "2\n",
      "3\n",
      "4\n"
     ]
    }
   ],
   "source": [
    "for i in range(1,5):\n",
    "    print(i)"
   ]
  },
  {
   "cell_type": "code",
   "execution_count": 7,
   "id": "d6539e19",
   "metadata": {},
   "outputs": [
    {
     "name": "stdout",
     "output_type": "stream",
     "text": [
      "1\n",
      "4\n",
      "7\n"
     ]
    }
   ],
   "source": [
    "for j in range(1,10):\n",
    "    if (j % 3) == 1:\n",
    "        print(j)"
   ]
  },
  {
   "cell_type": "markdown",
   "id": "22ee1ccd",
   "metadata": {},
   "source": [
    "### Practise Exercise\n",
    "\n",
    "Input a positive integer n. For each k in {1,...,n}, if k is multiple of 3 print 'aaa', if k is multiple of 7 print 'bbb' (this means, if k is multiple of 21 you should print 'aaabbb'), and if k is not multiple of 3 or 7, print k."
   ]
  },
  {
   "cell_type": "code",
   "execution_count": 8,
   "id": "d5f73980",
   "metadata": {},
   "outputs": [
    {
     "name": "stdout",
     "output_type": "stream",
     "text": [
      "1\n"
     ]
    }
   ],
   "source": [
    "n = int(input())\n",
    "# Write here the code for the exercise"
   ]
  },
  {
   "cell_type": "markdown",
   "id": "5e3d4235",
   "metadata": {},
   "source": [
    "### Lists\n",
    "\n",
    "A list is a collection that is ordered and changeable. It may contain different data types. A list is defined using square brackets, and allows the following basic operations:\n",
    "* Accessing elements, indexed starting from 0, and indexed in reverse order with negative indices starting from -1.\n",
    "* Getting the length of the list with the instruction `len()`.\n",
    "* Adding new elements with the instruction `append()`.\n",
    "* Concatenating lists with the `+` operation.\n",
    "\n",
    "Below there are five cells with examples of each operation. You can learn about other list operations at [the python documentation](https://docs.python.org/3/tutorial/introduction.html#lists). Check list comprehensions, which combine loops with lists and can be very handy to simplify your code."
   ]
  },
  {
   "cell_type": "code",
   "execution_count": 9,
   "id": "a66b8694",
   "metadata": {},
   "outputs": [
    {
     "name": "stdout",
     "output_type": "stream",
     "text": [
      "[1, 2, 'three', 'four', 5]\n",
      "2\n",
      "four\n"
     ]
    }
   ],
   "source": [
    "my_list = [1, 2, 'three', 'four', 5]\n",
    "print(my_list)\n",
    "print(my_list[1])\n",
    "print(my_list[-2])"
   ]
  },
  {
   "cell_type": "code",
   "execution_count": 10,
   "id": "bbdc2724",
   "metadata": {},
   "outputs": [
    {
     "name": "stdout",
     "output_type": "stream",
     "text": [
      "['new element', 2, 'three', 'four', 5]\n"
     ]
    }
   ],
   "source": [
    "my_list[0] = 'new element'\n",
    "print(my_list)"
   ]
  },
  {
   "cell_type": "code",
   "execution_count": 11,
   "id": "a90d8101",
   "metadata": {},
   "outputs": [
    {
     "data": {
      "text/plain": [
       "5"
      ]
     },
     "execution_count": 11,
     "metadata": {},
     "output_type": "execute_result"
    }
   ],
   "source": [
    "len(my_list)"
   ]
  },
  {
   "cell_type": "code",
   "execution_count": 12,
   "id": "e14eabfc",
   "metadata": {},
   "outputs": [
    {
     "name": "stdout",
     "output_type": "stream",
     "text": [
      "[6, 'six']\n"
     ]
    }
   ],
   "source": [
    "new_list = [] #you can create an empty list\n",
    "new_list.append(6)\n",
    "new_list.append('six')\n",
    "print(new_list)"
   ]
  },
  {
   "cell_type": "code",
   "execution_count": 13,
   "id": "15b8a3c2",
   "metadata": {},
   "outputs": [
    {
     "name": "stdout",
     "output_type": "stream",
     "text": [
      "['new element', 2, 'three', 'four', 5, 7, 8, 9]\n",
      "[0, 0, 0, 0, 0, 'new element', 2, 'three', 'four', 5, 7, 8, 9]\n"
     ]
    }
   ],
   "source": [
    "my_list += [7,8,9]\n",
    "print(my_list)\n",
    "concat = [0,0,0,0,0] + my_list\n",
    "print(concat)"
   ]
  },
  {
   "cell_type": "markdown",
   "id": "0cd4eefa",
   "metadata": {},
   "source": [
    "One has to be careful when copying lists. Try this code:"
   ]
  },
  {
   "cell_type": "code",
   "execution_count": 14,
   "id": "c161edf3",
   "metadata": {},
   "outputs": [
    {
     "name": "stdout",
     "output_type": "stream",
     "text": [
      "['changed', 2, 'three', 'four', 5, 7, 8, 9]\n"
     ]
    }
   ],
   "source": [
    "copied_list=my_list\n",
    "copied_list[0]='changed'\n",
    "print(my_list)"
   ]
  },
  {
   "cell_type": "markdown",
   "id": "a66047d2",
   "metadata": {},
   "source": [
    "As you can see, both `copied_list` and `my_list` have been changed. This is due to the fact that the variables `copied_list` and `my_list` are actually pointers to the same object in the computer's memory. To create a real copy, one must use the command `copy()`."
   ]
  },
  {
   "cell_type": "code",
   "execution_count": 15,
   "id": "40dce338",
   "metadata": {},
   "outputs": [
    {
     "name": "stdout",
     "output_type": "stream",
     "text": [
      "['changed', 2, 'three', 'four', 5, 7, 8, 9]\n"
     ]
    }
   ],
   "source": [
    "new_copied_list=my_list.copy()\n",
    "new_copied_list[0]='changed again'\n",
    "print(my_list)"
   ]
  },
  {
   "cell_type": "markdown",
   "id": "0f388490",
   "metadata": {},
   "source": [
    "### Practise Exercise\n",
    "\n",
    "Input a positive integer n. Create a list with the factorials of the first n positive integers."
   ]
  },
  {
   "cell_type": "code",
   "execution_count": 16,
   "id": "0542533d",
   "metadata": {},
   "outputs": [
    {
     "name": "stdout",
     "output_type": "stream",
     "text": [
      "1\n"
     ]
    }
   ],
   "source": [
    "n = int(input())\n",
    "#Write here the code for the exercise\n"
   ]
  },
  {
   "cell_type": "markdown",
   "id": "e48d6bfc",
   "metadata": {},
   "source": [
    "### Functions\n",
    "\n",
    "Functions are fragments of code that get some variables and return a result or do some partial task. Below there are two cells with examples of functions. It is advisable to give functions descriptive names. You can learn more in [the official documentation](https://docs.python.org/3/tutorial/controlflow.html#defining-functions).\n",
    "\n",
    "Pay attention to how identation works in the examples below."
   ]
  },
  {
   "cell_type": "code",
   "execution_count": 17,
   "id": "8e18a1c5",
   "metadata": {},
   "outputs": [],
   "source": [
    "def square(x):\n",
    "    return x * x\n",
    "\n",
    "#This algorithm is bad, could you suggest faster alternatives?\n",
    "def is_square(y):\n",
    "    if y == 0:\n",
    "        return True\n",
    "    for i in range(1,y+1):\n",
    "        if y == square(i):\n",
    "            return True\n",
    "    return False    "
   ]
  },
  {
   "cell_type": "code",
   "execution_count": 18,
   "id": "6918c59b",
   "metadata": {},
   "outputs": [
    {
     "name": "stdout",
     "output_type": "stream",
     "text": [
      "25\n",
      "True\n",
      "True\n",
      "True\n",
      "False\n"
     ]
    }
   ],
   "source": [
    "print(square(5))\n",
    "print(is_square(16))\n",
    "print(is_square(1))\n",
    "print(is_square(0))\n",
    "print(is_square(3))"
   ]
  },
  {
   "cell_type": "markdown",
   "id": "b10f4c56",
   "metadata": {},
   "source": [
    "### Practise Exercise\n",
    "\n",
    "The function n_choose_2 should give the combinatorial number n choose 2, given a positive integer n."
   ]
  },
  {
   "cell_type": "code",
   "execution_count": 19,
   "id": "6cbd96ec",
   "metadata": {},
   "outputs": [
    {
     "ename": "SyntaxError",
     "evalue": "invalid syntax (<ipython-input-19-b64fb153934c>, line 3)",
     "output_type": "error",
     "traceback": [
      "\u001b[0;36m  File \u001b[0;32m\"<ipython-input-19-b64fb153934c>\"\u001b[0;36m, line \u001b[0;32m3\u001b[0m\n\u001b[0;31m    return ??\u001b[0m\n\u001b[0m           ^\u001b[0m\n\u001b[0;31mSyntaxError\u001b[0m\u001b[0;31m:\u001b[0m invalid syntax\n"
     ]
    }
   ],
   "source": [
    "def n_choose_2(n):\n",
    "    #Complete here the code for Exercise 3 and replace ?? by the adequate expression\n",
    "    return ??\n",
    "\n"
   ]
  },
  {
   "cell_type": "code",
   "execution_count": 20,
   "id": "0960bf9e",
   "metadata": {},
   "outputs": [
    {
     "ename": "NameError",
     "evalue": "name 'n_choose_2' is not defined",
     "output_type": "error",
     "traceback": [
      "\u001b[0;31m---------------------------------------------------------------------------\u001b[0m",
      "\u001b[0;31mNameError\u001b[0m                                 Traceback (most recent call last)",
      "\u001b[0;32m<ipython-input-20-3ebcbf41afda>\u001b[0m in \u001b[0;36m<module>\u001b[0;34m\u001b[0m\n\u001b[1;32m      1\u001b[0m \u001b[0;31m#Check if the function works\u001b[0m\u001b[0;34m\u001b[0m\u001b[0;34m\u001b[0m\u001b[0;34m\u001b[0m\u001b[0m\n\u001b[1;32m      2\u001b[0m \u001b[0;34m\u001b[0m\u001b[0m\n\u001b[0;32m----> 3\u001b[0;31m \u001b[0mprint\u001b[0m\u001b[0;34m(\u001b[0m\u001b[0mn_choose_2\u001b[0m\u001b[0;34m(\u001b[0m\u001b[0mInteger\u001b[0m\u001b[0;34m(\u001b[0m\u001b[0;36m3\u001b[0m\u001b[0;34m)\u001b[0m\u001b[0;34m)\u001b[0m\u001b[0;34m)\u001b[0m\u001b[0;34m\u001b[0m\u001b[0;34m\u001b[0m\u001b[0m\n\u001b[0m\u001b[1;32m      4\u001b[0m \u001b[0mprint\u001b[0m\u001b[0;34m(\u001b[0m\u001b[0mn_choose_2\u001b[0m\u001b[0;34m(\u001b[0m\u001b[0mInteger\u001b[0m\u001b[0;34m(\u001b[0m\u001b[0;36m7\u001b[0m\u001b[0;34m)\u001b[0m\u001b[0;34m)\u001b[0m\u001b[0;34m)\u001b[0m\u001b[0;34m\u001b[0m\u001b[0;34m\u001b[0m\u001b[0m\n\u001b[1;32m      5\u001b[0m \u001b[0;34m\u001b[0m\u001b[0m\n",
      "\u001b[0;31mNameError\u001b[0m: name 'n_choose_2' is not defined"
     ]
    }
   ],
   "source": [
    "#Check if the function works\n",
    "\n",
    "print(n_choose_2(3))\n",
    "print(n_choose_2(7))\n",
    "\n",
    "#Add more tests"
   ]
  },
  {
   "cell_type": "markdown",
   "id": "0946cca3",
   "metadata": {},
   "source": [
    "### Practise Exercise\n",
    "\n",
    "The function fibonacci_list should return a list of the n first Fibonacci numbers, given a positive integer n. We will use the convention that the two first Fibonacci numbers are 1 and the others are defined by the recurrence $f_{n+2}=f_{n+1}+f_{n}$."
   ]
  },
  {
   "cell_type": "code",
   "execution_count": 21,
   "id": "bfe1b557",
   "metadata": {},
   "outputs": [],
   "source": [
    "def fibonacci_list(n):\n",
    "    l=[]\n",
    "    #Complete here the code for Exercise 4 and replace ?? by the adequate expression\n",
    "    \n",
    "    return l\n"
   ]
  },
  {
   "cell_type": "code",
   "execution_count": 22,
   "id": "0b9ccd52",
   "metadata": {},
   "outputs": [
    {
     "data": {
      "text/plain": [
       "[]"
      ]
     },
     "execution_count": 22,
     "metadata": {},
     "output_type": "execute_result"
    }
   ],
   "source": [
    "#Check if the function works \n",
    "\n",
    "fibonacci_list(10)\n",
    "\n",
    "#Add more tests"
   ]
  },
  {
   "cell_type": "markdown",
   "id": "003995c2",
   "metadata": {},
   "source": [
    "### Cells\n",
    "\n",
    "When in Command Mode (blue outline), you can add cells Above pressing A, and Below pressing B. You can also delete cells pressing D, and then D again. Do not delete cells that were already part of the assignment unless explicitly stated."
   ]
  },
  {
   "cell_type": "markdown",
   "id": "8372377f",
   "metadata": {},
   "source": [
    "## Graphs in Python"
   ]
  },
  {
   "cell_type": "markdown",
   "id": "b6d58044",
   "metadata": {},
   "source": [
    "We will work with three ways of storing a graph:\n",
    "* List of Edges\n",
    "* Adjacency Matrix\n",
    "* Adjacency List\n",
    "\n",
    "The goal of today is to understand how to translate between these representations and to construct some particular graphs."
   ]
  },
  {
   "cell_type": "code",
   "execution_count": 23,
   "id": "03f7794f",
   "metadata": {},
   "outputs": [],
   "source": [
    "def print_list_of_lists_in_rows(ll):\n",
    "    for l in ll:\n",
    "        print(l)"
   ]
  },
  {
   "cell_type": "code",
   "execution_count": 24,
   "id": "63f371ed",
   "metadata": {},
   "outputs": [
    {
     "name": "stdout",
     "output_type": "stream",
     "text": [
      "List of Edges:\n",
      "[0, 0]\n",
      "[0, 1]\n",
      "[1, 2]\n",
      "[2, 0]\n",
      "[0, 3]\n",
      "[0, 3]\n",
      "Adjacency Matrix:\n",
      "[1, 1, 1, 2]\n",
      "[1, 0, 1, 0]\n",
      "[1, 1, 0, 0]\n",
      "[2, 0, 0, 0]\n",
      "Adjacency List:\n",
      "[0, 1, 2, 3, 3]\n",
      "[0, 2]\n",
      "[0, 1]\n",
      "[0, 0]\n"
     ]
    }
   ],
   "source": [
    "#Example (multi)graph in the three representations\n",
    "example_LE = [[0,0],[0,1],[1,2],[2,0],[0,3],[0,3]]\n",
    "print('List of Edges:')\n",
    "print_list_of_lists_in_rows(example_LE)\n",
    "\n",
    "example_AM = [[1,1,1,2],[1,0,1,0],[1,1,0,0],[2,0,0,0]]\n",
    "print('Adjacency Matrix:')\n",
    "print_list_of_lists_in_rows(example_AM)\n",
    "\n",
    "example_AL = [[0,1,2,3,3],[0,2],[0,1],[0,0]]\n",
    "print('Adjacency List:')\n",
    "print_list_of_lists_in_rows(example_AL)"
   ]
  },
  {
   "cell_type": "code",
   "execution_count": null,
   "id": "a08416aa",
   "metadata": {},
   "outputs": [],
   "source": [
    "#Write and store some example lists of edges to test the other exercises\n",
    "ex1_LE = [[0,0],[0,1],[1,2],[2,0],[0,3],[0,3]]\n",
    "ex2_LE = [[1,1,1,2],[1,0,1,0],[1,1,0,0],[2,0,0,0]]\n",
    "ex3_LE = [[0,1,2,3,3],[0,2],[0,1],[0,0]]"
   ]
  },
  {
   "cell_type": "markdown",
   "id": "eb0df558",
   "metadata": {},
   "source": [
    "### Exercise 1\n",
    "\n",
    "The function LE_to_AM should create and return an Adjacency Matrix corresponding to the graph encoded in the list of edges input_LE.\n",
    "\n",
    "The function LE_to_AL should create and return an Adjacency List corresponding to the graph encoded in the list of edges input_LE.\n",
    "\n",
    "In both cases, you can assume that the vertices of the graph are labeled from 0 to n, where n is the largest label appearing in the list of edges.\n",
    "\n",
    "The function AM_to_LE should create and return a list of edges corresponding to the graph encoded in the Adjacency Matrix input_AM.\n",
    "\n",
    "The function AL_to_LE should create and return a list of edges corresponding to the graph encoded in the Adjacency List input_AL.\n",
    "\n"
   ]
  },
  {
   "cell_type": "code",
   "execution_count": null,
   "id": "disciplinary-recovery",
   "metadata": {},
   "outputs": [],
   "source": [
    "import itertools\n",
    "\n",
    "def get_number_of_nodes_LE (input_LE) -> int :\n",
    "    e = itertools.chain(*input_LE)\n",
    "    return max(e)"
   ]
  },
  {
   "cell_type": "code",
   "execution_count": null,
   "id": "27d0ee51",
   "metadata": {},
   "outputs": [],
   "source": [
    "#Write here the code for Exercise 1\n",
    "\n",
    "def LE_to_AM(input_LE):\n",
    "#     Write your code here\n",
    "    n = get_number_of_nodes_LE(input_LE)\n",
    "    \n",
    "    AM = [ [0] * (n + 1) for _ in range(n + 1)]\n",
    "    \n",
    "    for edge in input_LE :\n",
    "        AM[edge[0]][edge[1]] += 1\n",
    "        if edge[0] != edge[1] : AM[edge[1]][edge[0]] += 1\n",
    "    \n",
    "    return AM\n",
    "\n",
    "def LE_to_AL(input_LE):\n",
    "#     Write your code here\n",
    "    n = get_number_of_nodes_LE(input_LE)\n",
    "\n",
    "    AL = [[] for _ in range(n+1)]\n",
    "    \n",
    "    for e in input_LE :\n",
    "        AL[e[0]] += [e[1]]\n",
    "        if e[0] != e[1]: AL[e[1]] += [e[0]]\n",
    "\n",
    "       \n",
    "    return AL\n",
    "\n",
    "\n",
    "def AM_to_LE(input_AM):\n",
    "#     Write your code here\n",
    "    LE = []\n",
    "    \n",
    "    for i, row in enumerate(input_AM) :\n",
    "        for j, x in enumerate(row) :\n",
    "            if j - i > 0 :\n",
    "                if x == 2 :\n",
    "                    LE += [[i, j]] * 2\n",
    "                elif x == 1 :\n",
    "                    LE += [[i, j]]\n",
    "            elif j == i :\n",
    "                if x > 0 :\n",
    "                    LE += [[i, j]]\n",
    "        \n",
    "    return LE\n",
    "\n",
    "\n",
    "def AL_to_LE(input_AL):\n",
    "#     Write your code here\n",
    "    LE = []\n",
    "    for idx, node in enumerate(input_AL) :\n",
    "        for i in node :\n",
    "            if i >= idx :\n",
    "                LE += [[idx, i]]\n",
    "    \n",
    "    return LE\n",
    "\n"
   ]
  },
  {
   "cell_type": "code",
   "execution_count": null,
   "id": "e117975e",
   "metadata": {},
   "outputs": [],
   "source": [
    "#Check if the functions work\n",
    "\n",
    "example_LE = [[0,0],[0,1],[1,2],[2,0],[0,3],[0,3]]\n",
    "print(example_LE)\n",
    "\n",
    "AM=LE_to_AM(example_LE)\n",
    "print_list_of_lists_in_rows(AM)\n",
    "print()\n",
    "print_list_of_lists_in_rows(example_AM)\n",
    "print()\n",
    "\n",
    "LE=AM_to_LE(AM)\n",
    "print(LE)\n",
    "print()\n",
    "print()\n",
    "\n",
    "\n",
    "AL=LE_to_AL(example_LE)\n",
    "print_list_of_lists_in_rows(AL)\n",
    "print()\n",
    "print_list_of_lists_in_rows(example_AL)\n",
    "print()\n",
    "LE=AL_to_LE(AL)\n",
    "print(LE)\n",
    "\n",
    "\n",
    "#Add more tests"
   ]
  },
  {
   "cell_type": "markdown",
   "id": "6b53558d",
   "metadata": {},
   "source": [
    "Now that you know the functions work, you can convert the example Edge Lists to example Adjacency Matrices and Adjacency lists, that you can use later to test the other functions"
   ]
  },
  {
   "cell_type": "code",
   "execution_count": null,
   "id": "619dc245",
   "metadata": {},
   "outputs": [],
   "source": [
    "#Create example Adajcency Matrices and Adjacency Lists\n",
    "\n",
    "example_AM = LE_to_AM(example_LE)\n",
    "example_AL = LE_to_AL(example_LE)\n",
    "\n",
    "print_list_of_lists_in_rows(example_AM)\n",
    "print()\n",
    "print_list_of_lists_in_rows(example_AL)"
   ]
  },
  {
   "cell_type": "markdown",
   "id": "ac446ba0",
   "metadata": {},
   "source": [
    "### Exercise 2\n",
    "\n",
    "The following functions should create and return the Adjacency List of a particular graph, given the positive integers n, m greater or equal to 3.\n",
    "* cycle(n) creates the cycle graph with n vertices.\n",
    "* complete_bipartite(n, m) creates the complete bipartite graph with n and m vertices in each side.\n",
    "* grid(n,m) creates the grid graph of size n x m (with nm vertices total)."
   ]
  },
  {
   "cell_type": "code",
   "execution_count": null,
   "id": "3d329e80",
   "metadata": {},
   "outputs": [],
   "source": [
    "#Write here the code for Exercise 2\n",
    "\n",
    "def cycle(n):\n",
    "    \n",
    "#     Write your code here\n",
    "    # Take special cases in advanced\n",
    "    if n == 1 : return [[0]]\n",
    "    if n == 0 : return []\n",
    "    \n",
    "    \n",
    "    AL = [[] for _ in range(n)]\n",
    "\n",
    "\n",
    "    for i in range(0, n):\n",
    "        AL[i] += [(i - 1) % n, (i + 1) % n] # The module of n implementation is an idea of Jofre Dolcet\n",
    "    \n",
    "    return AL\n",
    "\n",
    "def complete_bipartite(n,m):\n",
    "    \n",
    "#     Write your code here\n",
    "    AL_n = [ list(range(n, m+n)) for _ in range(n)]\n",
    "    AL_m = [ list(range(n)) for _ in range(m)]\n",
    "\n",
    "    AL = AL_n + AL_m\n",
    "    \n",
    "    return AL\n",
    "\n",
    "def grid(n,m):\n",
    "\n",
    "#     Write your code here\n",
    "\n",
    "    AL = [ [] for _ in range(m * n) ]\n",
    "    \n",
    "    for idx, x in enumerate(AL) :\n",
    "        if idx % n != 0 :\n",
    "            x += [idx - 1] \n",
    "        if idx % n != n - 1 :\n",
    "            x += [idx + 1]\n",
    "        if idx >= n :\n",
    "            x += [idx - n]\n",
    "        if idx < n*(m - 1) :\n",
    "            x += [idx + n]\n",
    "    return AL\n",
    "\n",
    " "
   ]
  },
  {
   "cell_type": "code",
   "execution_count": null,
   "id": "85c50988",
   "metadata": {},
   "outputs": [],
   "source": [
    "#Check if the functions work\n",
    "\n",
    "\n",
    "AL=cycle(3)\n",
    "print(AL)\n",
    "print_list_of_lists_in_rows(AL_to_LE(AL))\n",
    "print_list_of_lists_in_rows(LE_to_AM((AL_to_LE(AL))))\n",
    "print()\n",
    "\n",
    "AL=cycle(5)\n",
    "print(AL)\n",
    "print_list_of_lists_in_rows(AL_to_LE(AL))\n",
    "print_list_of_lists_in_rows(LE_to_AM((AL_to_LE(AL))))\n",
    "print()\n",
    "\n",
    "AL=cycle(7)\n",
    "print(AL)\n",
    "print_list_of_lists_in_rows(AL_to_LE(AL))\n",
    "print_list_of_lists_in_rows(LE_to_AM((AL_to_LE(AL))))\n",
    "print()\n",
    "\n",
    "\n",
    "\n",
    "AL=complete_bipartite(2,3)\n",
    "print(AL)\n",
    "print_list_of_lists_in_rows(AL_to_LE(AL))\n",
    "print_list_of_lists_in_rows(LE_to_AM((AL_to_LE(AL))))\n",
    "print()\n",
    "\n",
    "AL=complete_bipartite(3,3)\n",
    "print(AL)\n",
    "print_list_of_lists_in_rows(AL_to_LE(AL))\n",
    "print_list_of_lists_in_rows(LE_to_AM((AL_to_LE(AL))))\n",
    "print()\n",
    "\n",
    "AL=complete_bipartite(5,4)\n",
    "print(AL)\n",
    "print_list_of_lists_in_rows(AL_to_LE(AL))\n",
    "print_list_of_lists_in_rows(LE_to_AM((AL_to_LE(AL))))\n",
    "print()\n",
    "\n",
    "\n",
    "AL=grid(3,3)\n",
    "print(AL)\n",
    "print_list_of_lists_in_rows(AL_to_LE(AL))\n",
    "print_list_of_lists_in_rows(LE_to_AM((AL_to_LE(AL))))\n",
    "print()\n",
    "\n",
    "AL=grid(3,4)\n",
    "print(AL)\n",
    "print_list_of_lists_in_rows(AL_to_LE(AL))\n",
    "print_list_of_lists_in_rows(LE_to_AM((AL_to_LE(AL))))\n",
    "print()\n",
    "\n",
    "AL=grid(5,3)\n",
    "print(AL)\n",
    "print_list_of_lists_in_rows(AL_to_LE(AL))\n",
    "print_list_of_lists_in_rows(LE_to_AM((AL_to_LE(AL))))\n",
    "print()\n",
    "\n",
    "# Add more tests\n",
    "AL=cycle(1)\n",
    "print(AL)\n",
    "print_list_of_lists_in_rows(AL_to_LE(AL))\n",
    "print_list_of_lists_in_rows(LE_to_AM((AL_to_LE(AL))))\n",
    "print()\n",
    "\n",
    "AL=complete_bipartite(1,7)\n",
    "print(AL)\n",
    "print_list_of_lists_in_rows(AL_to_LE(AL))\n",
    "print_list_of_lists_in_rows(LE_to_AM((AL_to_LE(AL))))\n",
    "print()\n",
    "\n",
    "AL=grid(3, 5)\n",
    "print(AL)\n",
    "print_list_of_lists_in_rows(AL_to_LE(AL))\n",
    "print_list_of_lists_in_rows(LE_to_AM((AL_to_LE(AL))))\n",
    "print()"
   ]
  },
  {
   "cell_type": "markdown",
   "id": "030b3cf7",
   "metadata": {},
   "source": [
    "### Exercise 3\n",
    "\n",
    "The function AM_to_degrees should return a list with the degree of each vertex of the graph G encoded in the Adjacency Matrix G_AM.\n",
    "\n",
    "Pay special attention to multiedges and loops.\n",
    "\n",
    "The function degree_sequence should return the (nonincreasingly ordered) degree sequence of the graph G encoded in the Adjacency Matrix G_AM."
   ]
  },
  {
   "cell_type": "code",
   "execution_count": null,
   "id": "b50274cd",
   "metadata": {},
   "outputs": [],
   "source": [
    "#Write here the code for the exercise, and replace the ?? for the adequate expression\n",
    "\n",
    "def AM_to_degrees(G_AM):\n",
    "    deg = []\n",
    "    \n",
    "    for i, row in enumerate(G_AM) :\n",
    "        d = 0 \n",
    "    \n",
    "        for j, e in enumerate(row):\n",
    "            if j != i :\n",
    "                d += e \n",
    "            else :\n",
    "                d += 2*e\n",
    "            \n",
    "        deg += [d]\n",
    "    \n",
    "    return deg\n",
    "\n",
    "def degree_sequence(G_AM):\n",
    "    return sorted(AM_to_degrees(G_AM), reverse=True)\n",
    "\n"
   ]
  },
  {
   "cell_type": "code",
   "execution_count": null,
   "id": "7ecfacd8",
   "metadata": {},
   "outputs": [],
   "source": [
    "#Check if the function works\n",
    "\n",
    "example_AM = [[1,1,1,2],[1,0,1,0],[1,1,0,0],[2,0,0,0]]\n",
    "\n",
    "print(example_AM)\n",
    "print(AM_to_degrees(example_AM))\n",
    "print(degree_sequence(example_AM))\n",
    "\n",
    "#Add more tests\n",
    "example_AM = [[1,1,2,1],[1,0,0,1],[2,0,0,0],[1,1,0,0]]\n",
    "\n",
    "print(example_AM)\n",
    "print(AM_to_degrees(example_AM))\n",
    "print(degree_sequence(example_AM))\n",
    "\n",
    "\n",
    "example_AM = [[1,0,2,1],[2,0,0,0],[0,0,2,0],[1,0,1,0]]\n",
    "\n",
    "print(example_AM)\n",
    "print(AM_to_degrees(example_AM))\n",
    "print(degree_sequence(example_AM))\n"
   ]
  },
  {
   "cell_type": "markdown",
   "id": "7ece13ff-9afa-4bc3-9f0b-4f11cc709686",
   "metadata": {},
   "source": [
    "Carlos Fernández Lorán y Natália Rubiol"
   ]
  }
 ],
 "metadata": {
  "kernelspec": {
   "display_name": "SageMath 9.2",
   "language": "sage",
   "name": "sagemath"
  },
  "language_info": {
   "codemirror_mode": {
    "name": "ipython",
    "version": 3
   },
   "file_extension": ".py",
   "mimetype": "text/x-python",
   "name": "python",
   "nbconvert_exporter": "python",
   "pygments_lexer": "ipython3",
   "version": "3.9.2"
  }
 },
 "nbformat": 4,
 "nbformat_minor": 5
}
